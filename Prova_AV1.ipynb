{
  "nbformat": 4,
  "nbformat_minor": 0,
  "metadata": {
    "colab": {
      "provenance": []
    },
    "kernelspec": {
      "name": "python3",
      "display_name": "Python 3"
    },
    "language_info": {
      "name": "python"
    }
  },
  "cells": [
    {
      "cell_type": "code",
      "source": [
        "# 1° Questão\n",
        "\n",
        "num1 = int(input(\"Digite um número inteiro: \"))\n",
        "num2 = int(input(\"Digite um número inteiro: \"))\n",
        "num3 = int(input(\"Digite um número inteiro: \"))\n",
        "\n",
        "numeros = [num1, num2, num3]\n",
        "\n",
        "numeros.sort()\n",
        "\n",
        "print(\"Números em ordem crescente:\", numeros[0], numeros[1], numeros[2])\n"
      ],
      "metadata": {
        "colab": {
          "base_uri": "https://localhost:8080/"
        },
        "id": "1GduqMFzdyOC",
        "outputId": "690df031-b241-4a87-e42a-2a6d3a78501c"
      },
      "execution_count": null,
      "outputs": [
        {
          "output_type": "stream",
          "name": "stdout",
          "text": [
            "Digite um número inteiro: 8\n",
            "Digite um número inteiro: 2\n",
            "Digite um número inteiro: 6\n",
            "Números em ordem crescente: 2 6 8\n"
          ]
        }
      ]
    },
    {
      "cell_type": "code",
      "execution_count": null,
      "metadata": {
        "colab": {
          "base_uri": "https://localhost:8080/"
        },
        "id": "5byVTSvzpZIr",
        "outputId": "35ba1dbd-c589-4eb4-e653-d85e82aa80ce"
      },
      "outputs": [
        {
          "output_type": "stream",
          "name": "stdout",
          "text": [
            "0, 1, 2, 3, 4, 5, 6, 7, 8, 9, 10, 11, 12, 13, 14, 15, 16, 17, 18, 19, 20, 21, 22, 23, 24, 25, 26, 27, 28, 29, 30, 31, 32, 33, 34, 35, 36, 37, 38, 39, 40, 41, 42, 43, 44, 45, 46, 47, 48, 49, 50, 51, 52, 53, 54, 55, 56, 57, 58, 59, 60, 61, 62, 63, 64, 65, 66, 67, 68, 69, 70, 71, 72, 73, 74, 75, 76, 77, 78, 79, 80, 81, 82, 83, 84, 85, 86, 87, 88, 89, 90, 91, 92, 93, 94, 95, 96, 97, 98, 99, FIM\n"
          ]
        }
      ],
      "source": [
        "# 2° Questão\n",
        "for n in range(0,100):\n",
        "  print(n,end=', ')\n",
        "print(\"FIM\")"
      ]
    },
    {
      "cell_type": "code",
      "source": [
        "# 3° Questão\n",
        "\n",
        "nome = input(\"Qual é o seu nome? \")\n",
        "print(f\"Seja muito bem-vindo {nome}. \")"
      ],
      "metadata": {
        "colab": {
          "base_uri": "https://localhost:8080/"
        },
        "id": "exsik1txcvMt",
        "outputId": "e4962fe3-f908-4551-fa7c-ef8280d275ca"
      },
      "execution_count": null,
      "outputs": [
        {
          "output_type": "stream",
          "name": "stdout",
          "text": [
            "Qual é o seu nome? rodrigo do geras\n",
            "Seja muito bem-vindo rodrigo do geras. \n"
          ]
        }
      ]
    },
    {
      "cell_type": "code",
      "source": [
        "# 4° Questão\n",
        "\n",
        "def eh_primo(numero):\n",
        "    if numero <= 1:\n",
        "        return False\n",
        "    for i in range(2, int(numero ** 0.5) + 1):\n",
        "        if numero % i == 0:\n",
        "            return False\n",
        "    return True\n",
        "print(\"Verificador de números primos.\")\n",
        "\n",
        "num = int(input(\"Digite um número: \"))\n",
        "\n",
        "if eh_primo(num):\n",
        "    print(\"Número primo.\")\n",
        "else:\n",
        "    print(\"Número não é primo.\")\n"
      ],
      "metadata": {
        "colab": {
          "base_uri": "https://localhost:8080/"
        },
        "id": "-iIlngNAlRzg",
        "outputId": "b8f831e2-d0e9-45e2-ab7e-8c1bb73ec4df"
      },
      "execution_count": null,
      "outputs": [
        {
          "output_type": "stream",
          "name": "stdout",
          "text": [
            "Verificador de números primos.\n",
            "Digite um número: 11\n",
            "Número primo.\n"
          ]
        }
      ]
    },
    {
      "cell_type": "code",
      "source": [
        "# 5° Questão\n",
        "\n",
        "n = int(input(\"Digite a quantidade de notas: \"))\n",
        "notas = [float(input()) for _ in range(n)]\n",
        "media = sum(notas) / n\n",
        "\n",
        "limite_superior = media * 1.10\n",
        "limite_inferior = media * 0.90\n",
        "acima_10 = sum(1 for nota in notas if nota > limite_superior)\n",
        "abaixo_10 = sum(1 for nota in notas if nota < limite_inferior)\n",
        "\n",
        "\n",
        "print(f\"Média geral das notas: {media:.2f}\\n\")\n",
        "print(f\"Total de notas acima da média: {acima_10}\")\n",
        "print(f\"Total de notas abaixo da média: {abaixo_10}\")\n",
        "\n",
        "\n"
      ],
      "metadata": {
        "id": "PtHchgPG4YWd",
        "colab": {
          "base_uri": "https://localhost:8080/"
        },
        "outputId": "6adfcdea-5078-494f-fead-21841309183c"
      },
      "execution_count": 3,
      "outputs": [
        {
          "output_type": "stream",
          "name": "stdout",
          "text": [
            "Digite a quantidade de notas: 4\n",
            "5\n",
            "7\n",
            "2\n",
            "9\n",
            "Média geral das notas: 5.75\n",
            "\n",
            "Total de notas acima da média: 2\n",
            "Total de notas abaixo da média: 2\n"
          ]
        }
      ]
    },
    {
      "cell_type": "code",
      "source": [
        "# 6° Questão\n",
        "\n",
        "def inverter_string(texto):\n",
        "  return texto[: : -1]\n",
        "\n",
        "entrada = input(\"Digite uma string: \")\n",
        "inverter = inverter_string(entrada)\n",
        "print(inverter)"
      ],
      "metadata": {
        "colab": {
          "base_uri": "https://localhost:8080/"
        },
        "id": "c2Z_D--ewBvU",
        "outputId": "969e3b1e-673b-4433-dfd7-299427bca112"
      },
      "execution_count": null,
      "outputs": [
        {
          "output_type": "stream",
          "name": "stdout",
          "text": [
            "Digite uma string: rodrigO\n",
            "Ogirdor\n"
          ]
        }
      ]
    },
    {
      "cell_type": "code",
      "source": [
        "# 7° Questão\n",
        "\n",
        "texto = input(\"Digite uma string: \")\n",
        "char_antigo = input(\"Digite um caractere da string para ser substituìdo: \")\n",
        "char_novo = input(\"Digite um novo caractere para substituir o antigo: \")\n",
        "\n",
        "if len(char_antigo) != 1 or len(char_novo) != 1:\n",
        "    print(\"Erro: os dois últimos valores devem ser um único caractere.\")\n",
        "else:\n",
        "  resultado = texto.replace(char_antigo, char_novo)\n",
        "print(resultado)\n"
      ],
      "metadata": {
        "colab": {
          "base_uri": "https://localhost:8080/"
        },
        "id": "ENFtBgIxdLM1",
        "outputId": "375599b7-b7b2-4d58-f6ba-502c5b633bd9"
      },
      "execution_count": 5,
      "outputs": [
        {
          "output_type": "stream",
          "name": "stdout",
          "text": [
            "Digite uma string: maracatu\n",
            "Digite um caractere da string para ser substituìdo: a\n",
            "Digite um novo caractere para substituir o antigo: o\n",
            "morocotu\n"
          ]
        }
      ]
    },
    {
      "cell_type": "code",
      "source": [
        "# 8° Questão\n",
        "\n",
        "texto = input(\"Digite uma string: \")\n",
        "caractere = input(\"Digite um caractere: \")\n",
        "if len(caractere) != 1:\n",
        "    print(\"Erro: insira apenas um único caractere.\")\n",
        "else:\n",
        "    indice = texto.find(caractere)\n",
        "    print(indice)\n"
      ],
      "metadata": {
        "colab": {
          "base_uri": "https://localhost:8080/"
        },
        "id": "lby9rltoeO_E",
        "outputId": "64001e73-d79b-449a-c9f9-410b4abb26fb"
      },
      "execution_count": 7,
      "outputs": [
        {
          "output_type": "stream",
          "name": "stdout",
          "text": [
            "Digite uma string: melancia\n",
            "Digite um caractere: o\n",
            "-1\n"
          ]
        }
      ]
    },
    {
      "cell_type": "code",
      "source": [
        "# 9° Questão\n",
        "\n",
        "x = int(input(\"Digite um número inteiro: \"))\n",
        "y = int(input(\"Digite outro número inteiro maior que o anterior: \"))\n",
        "\n",
        "inicio = min(x, y) + 1\n",
        "fim = max(x, y)\n",
        "\n",
        "for i in range(inicio, fim):\n",
        "    if i % 5 == 2 or i % 5 == 3:\n",
        "        print(i)\n"
      ],
      "metadata": {
        "colab": {
          "base_uri": "https://localhost:8080/"
        },
        "id": "1dAGBUOPezLi",
        "outputId": "e9885bd9-1397-4985-ef4e-03b61116c5d2"
      },
      "execution_count": 8,
      "outputs": [
        {
          "output_type": "stream",
          "name": "stdout",
          "text": [
            "Digite um número inteiro: 5\n",
            "Digite outro número inteiro maior que o anterior: 10\n",
            "7\n",
            "8\n"
          ]
        }
      ]
    },
    {
      "cell_type": "code",
      "source": [
        "# 10° Questão\n",
        "\n",
        "\n",
        "n = int(input(\"Digite a quantidade de números: \"))\n",
        "numeros = [int(input()) for _ in range(n)]\n",
        "\n",
        "for num in reversed(numeros):\n",
        "    print(f\"Ordem reversa: {num}\")\n",
        "\n",
        "for num in sorted(numeros, reverse=True):\n",
        "    print(f\"Ordem decrescente: {num}\")\n"
      ],
      "metadata": {
        "colab": {
          "base_uri": "https://localhost:8080/"
        },
        "id": "YK972IqMfVNA",
        "outputId": "06780d94-e8f7-48aa-a56d-8a7218042b73"
      },
      "execution_count": 10,
      "outputs": [
        {
          "output_type": "stream",
          "name": "stdout",
          "text": [
            "Digite a quantidade de números: 3\n",
            "56\n",
            "23\n",
            "45\n",
            "Ordem reversa: 45\n",
            "Ordem reversa: 23\n",
            "Ordem reversa: 56\n",
            "Ordem decrescente: 56\n",
            "Ordem decrescente: 45\n",
            "Ordem decrescente: 23\n"
          ]
        }
      ]
    }
  ]
}